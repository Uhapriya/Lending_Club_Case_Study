{
  "nbformat": 4,
  "nbformat_minor": 0,
  "metadata": {
    "colab": {
      "name": "Lending_Club_Case_Study.ipynb",
      "provenance": [],
      "collapsed_sections": [],
      "toc_visible": true
    },
    "kernelspec": {
      "name": "python3",
      "display_name": "Python 3"
    }
  },
  "cells": [
    {
      "cell_type": "markdown",
      "metadata": {
        "id": "EyyI8GXXf-tA"
      },
      "source": [
        "#Data Loading and Understanding"
      ]
    },
    {
      "cell_type": "code",
      "metadata": {
        "id": "ZKUeZ2O-SeKX",
        "colab": {
          "base_uri": "https://localhost:8080/"
        },
        "outputId": "925bdc14-045e-4064-de52-b078973b44a1"
      },
      "source": [
        "import pandas as pd\r\n",
        "import seaborn as sns\r\n",
        "import numpy as np\r\n",
        "import matplotlib.pyplot as plt\r\n",
        "%matplotlib inline\r\n",
        "\r\n",
        "loan = pd.read_csv(\"loan.csv\", sep=\",\",encoding = \"ISO-8859-1\",low_memory = False)\r\n",
        "#Information about dataset\r\n",
        "loan.info()\r\n"
      ],
      "execution_count": null,
      "outputs": [
        {
          "output_type": "stream",
          "text": [
            "<class 'pandas.core.frame.DataFrame'>\n",
            "RangeIndex: 39717 entries, 0 to 39716\n",
            "Columns: 111 entries, id to total_il_high_credit_limit\n",
            "dtypes: float64(74), int64(13), object(24)\n",
            "memory usage: 33.6+ MB\n"
          ],
          "name": "stdout"
        }
      ]
    },
    {
      "cell_type": "code",
      "metadata": {
        "colab": {
          "base_uri": "https://localhost:8080/"
        },
        "id": "skqVZGV1f83J",
        "outputId": "5d3e045e-afef-4f00-c94a-446a5d9f2950"
      },
      "source": [
        "#get number of rows and columns in the dataset\r\n",
        "\r\n",
        "print(\"Shape of the dataset : \", loan.shape,\"\\n\")\r\n",
        "print(\"Columns of the dataset : \")\r\n",
        "loan.columns"
      ],
      "execution_count": null,
      "outputs": [
        {
          "output_type": "stream",
          "text": [
            "Shape of the dataset :  (39717, 111) \n",
            "\n",
            "Columns of the dataset : \n"
          ],
          "name": "stdout"
        },
        {
          "output_type": "execute_result",
          "data": {
            "text/plain": [
              "Index(['id', 'member_id', 'loan_amnt', 'funded_amnt', 'funded_amnt_inv',\n",
              "       'term', 'int_rate', 'installment', 'grade', 'sub_grade',\n",
              "       ...\n",
              "       'num_tl_90g_dpd_24m', 'num_tl_op_past_12m', 'pct_tl_nvr_dlq',\n",
              "       'percent_bc_gt_75', 'pub_rec_bankruptcies', 'tax_liens',\n",
              "       'tot_hi_cred_lim', 'total_bal_ex_mort', 'total_bc_limit',\n",
              "       'total_il_high_credit_limit'],\n",
              "      dtype='object', length=111)"
            ]
          },
          "metadata": {
            "tags": []
          },
          "execution_count": 243
        }
      ]
    },
    {
      "cell_type": "markdown",
      "metadata": {
        "id": "gHsGYk4N1R35"
      },
      "source": [
        "#Data Cleaning"
      ]
    },
    {
      "cell_type": "code",
      "metadata": {
        "colab": {
          "base_uri": "https://localhost:8080/"
        },
        "id": "6v-Hi3XchAtW",
        "outputId": "6396fcf7-5be2-4a10-97e4-f310f7ab7d3e"
      },
      "source": [
        "#get columns with null values\r\n",
        "null_columns = loan.columns[loan.isnull().any()]\r\n",
        "\r\n",
        "print(\"Columns containing NA values : \\n\" , null_columns,\"\\n\\n\")\r\n",
        "\r\n",
        "#get percentage of null values\r\n",
        "null_count = (loan[null_columns].isnull().sum()/len(loan.index))*100\r\n",
        "\r\n",
        "print(\"Percentage of null values in each columns : \\n\",null_count)"
      ],
      "execution_count": null,
      "outputs": [
        {
          "output_type": "stream",
          "text": [
            "Columns containing NA values : \n",
            " Index(['emp_title', 'emp_length', 'desc', 'title', 'mths_since_last_delinq',\n",
            "       'mths_since_last_record', 'revol_util', 'last_pymnt_d', 'next_pymnt_d',\n",
            "       'last_credit_pull_d', 'collections_12_mths_ex_med',\n",
            "       'mths_since_last_major_derog', 'annual_inc_joint', 'dti_joint',\n",
            "       'verification_status_joint', 'tot_coll_amt', 'tot_cur_bal',\n",
            "       'open_acc_6m', 'open_il_6m', 'open_il_12m', 'open_il_24m',\n",
            "       'mths_since_rcnt_il', 'total_bal_il', 'il_util', 'open_rv_12m',\n",
            "       'open_rv_24m', 'max_bal_bc', 'all_util', 'total_rev_hi_lim', 'inq_fi',\n",
            "       'total_cu_tl', 'inq_last_12m', 'acc_open_past_24mths', 'avg_cur_bal',\n",
            "       'bc_open_to_buy', 'bc_util', 'chargeoff_within_12_mths',\n",
            "       'mo_sin_old_il_acct', 'mo_sin_old_rev_tl_op', 'mo_sin_rcnt_rev_tl_op',\n",
            "       'mo_sin_rcnt_tl', 'mort_acc', 'mths_since_recent_bc',\n",
            "       'mths_since_recent_bc_dlq', 'mths_since_recent_inq',\n",
            "       'mths_since_recent_revol_delinq', 'num_accts_ever_120_pd',\n",
            "       'num_actv_bc_tl', 'num_actv_rev_tl', 'num_bc_sats', 'num_bc_tl',\n",
            "       'num_il_tl', 'num_op_rev_tl', 'num_rev_accts', 'num_rev_tl_bal_gt_0',\n",
            "       'num_sats', 'num_tl_120dpd_2m', 'num_tl_30dpd', 'num_tl_90g_dpd_24m',\n",
            "       'num_tl_op_past_12m', 'pct_tl_nvr_dlq', 'percent_bc_gt_75',\n",
            "       'pub_rec_bankruptcies', 'tax_liens', 'tot_hi_cred_lim',\n",
            "       'total_bal_ex_mort', 'total_bc_limit', 'total_il_high_credit_limit'],\n",
            "      dtype='object') \n",
            "\n",
            "\n",
            "Percentage of null values in each columns : \n",
            " emp_title                       6.191303\n",
            "emp_length                      2.706650\n",
            "desc                           32.580507\n",
            "title                           0.027696\n",
            "mths_since_last_delinq         64.662487\n",
            "                                 ...    \n",
            "tax_liens                       0.098195\n",
            "tot_hi_cred_lim               100.000000\n",
            "total_bal_ex_mort             100.000000\n",
            "total_bc_limit                100.000000\n",
            "total_il_high_credit_limit    100.000000\n",
            "Length: 68, dtype: float64\n"
          ],
          "name": "stdout"
        }
      ]
    },
    {
      "cell_type": "code",
      "metadata": {
        "id": "X5KAsFDSWFJV",
        "colab": {
          "base_uri": "https://localhost:8080/"
        },
        "outputId": "5a421380-2701-4ab9-e350-aafd8ed06a1e"
      },
      "source": [
        "# removing the columns having more than 90% missing values\r\n",
        "missing_columns = loan.columns[100*(loan.isnull().sum()/len(loan.index)) > 90]\r\n",
        "print(missing_columns)\r\n",
        "loan_df = loan.drop(missing_columns, axis=1)"
      ],
      "execution_count": null,
      "outputs": [
        {
          "output_type": "stream",
          "text": [
            "Index(['mths_since_last_record', 'next_pymnt_d', 'mths_since_last_major_derog',\n",
            "       'annual_inc_joint', 'dti_joint', 'verification_status_joint',\n",
            "       'tot_coll_amt', 'tot_cur_bal', 'open_acc_6m', 'open_il_6m',\n",
            "       'open_il_12m', 'open_il_24m', 'mths_since_rcnt_il', 'total_bal_il',\n",
            "       'il_util', 'open_rv_12m', 'open_rv_24m', 'max_bal_bc', 'all_util',\n",
            "       'total_rev_hi_lim', 'inq_fi', 'total_cu_tl', 'inq_last_12m',\n",
            "       'acc_open_past_24mths', 'avg_cur_bal', 'bc_open_to_buy', 'bc_util',\n",
            "       'mo_sin_old_il_acct', 'mo_sin_old_rev_tl_op', 'mo_sin_rcnt_rev_tl_op',\n",
            "       'mo_sin_rcnt_tl', 'mort_acc', 'mths_since_recent_bc',\n",
            "       'mths_since_recent_bc_dlq', 'mths_since_recent_inq',\n",
            "       'mths_since_recent_revol_delinq', 'num_accts_ever_120_pd',\n",
            "       'num_actv_bc_tl', 'num_actv_rev_tl', 'num_bc_sats', 'num_bc_tl',\n",
            "       'num_il_tl', 'num_op_rev_tl', 'num_rev_accts', 'num_rev_tl_bal_gt_0',\n",
            "       'num_sats', 'num_tl_120dpd_2m', 'num_tl_30dpd', 'num_tl_90g_dpd_24m',\n",
            "       'num_tl_op_past_12m', 'pct_tl_nvr_dlq', 'percent_bc_gt_75',\n",
            "       'tot_hi_cred_lim', 'total_bal_ex_mort', 'total_bc_limit',\n",
            "       'total_il_high_credit_limit'],\n",
            "      dtype='object')\n"
          ],
          "name": "stdout"
        }
      ]
    },
    {
      "cell_type": "code",
      "metadata": {
        "colab": {
          "base_uri": "https://localhost:8080/"
        },
        "id": "LoGCSU2LS1TV",
        "outputId": "6fd1ae3a-8484-45c8-dba6-1b91e4e29bb7"
      },
      "source": [
        "print(\"Column details after removing null values\")\r\n",
        "print(\"=============================================\")\r\n",
        "print(\"Shape of the dataset : \",loan_df.shape)\r\n",
        "#get columns with null values\r\n",
        "null_columns = loan_df.columns[loan_df.isnull().any()]\r\n",
        "print(\"Columns containing NA values : \\n\" , null_columns,\"\\n\\n\")\r\n",
        "\r\n",
        "#get percentage of null values\r\n",
        "null_count = (loan_df[null_columns].isnull().sum()/len(loan_df.index))*100\r\n",
        "print(\"Percentage of null values in each columns : \\n\",null_count)"
      ],
      "execution_count": null,
      "outputs": [
        {
          "output_type": "stream",
          "text": [
            "Column details after removing null values\n",
            "=============================================\n",
            "Shape of the dataset :  (39717, 55)\n",
            "Columns containing NA values : \n",
            " Index(['emp_title', 'emp_length', 'desc', 'title', 'mths_since_last_delinq',\n",
            "       'revol_util', 'last_pymnt_d', 'last_credit_pull_d',\n",
            "       'collections_12_mths_ex_med', 'chargeoff_within_12_mths',\n",
            "       'pub_rec_bankruptcies', 'tax_liens'],\n",
            "      dtype='object') \n",
            "\n",
            "\n",
            "Percentage of null values in each columns : \n",
            " emp_title                      6.191303\n",
            "emp_length                     2.706650\n",
            "desc                          32.580507\n",
            "title                          0.027696\n",
            "mths_since_last_delinq        64.662487\n",
            "revol_util                     0.125891\n",
            "last_pymnt_d                   0.178765\n",
            "last_credit_pull_d             0.005036\n",
            "collections_12_mths_ex_med     0.140998\n",
            "chargeoff_within_12_mths       0.140998\n",
            "pub_rec_bankruptcies           1.754916\n",
            "tax_liens                      0.098195\n",
            "dtype: float64\n"
          ],
          "name": "stdout"
        }
      ]
    },
    {
      "cell_type": "markdown",
      "metadata": {
        "id": "5LkZdY5vWmFc"
      },
      "source": [
        "###Inference:\r\n",
        "*   We could see there are 39717 rows and 111 columns in the given dataset.\r\n",
        "*   Out of 111 columns, there are lots of columns having only NA values which will be no use for analysis.\r\n",
        "*   We will remove the columns with NA values and those are not contributing to the analysis.\r\n",
        "\r\n",
        "\r\n"
      ]
    },
    {
      "cell_type": "code",
      "metadata": {
        "colab": {
          "base_uri": "https://localhost:8080/"
        },
        "id": "xkfWfXvnZKjk",
        "outputId": "f161f58d-5194-48bd-9276-10d9d6397299"
      },
      "source": [
        "#seeing the dataset after dropping the columns having more than 90% missing values\r\n",
        "loan_df.info()"
      ],
      "execution_count": null,
      "outputs": [
        {
          "output_type": "stream",
          "text": [
            "<class 'pandas.core.frame.DataFrame'>\n",
            "RangeIndex: 39717 entries, 0 to 39716\n",
            "Data columns (total 55 columns):\n",
            " #   Column                      Non-Null Count  Dtype  \n",
            "---  ------                      --------------  -----  \n",
            " 0   id                          39717 non-null  int64  \n",
            " 1   member_id                   39717 non-null  int64  \n",
            " 2   loan_amnt                   39717 non-null  int64  \n",
            " 3   funded_amnt                 39717 non-null  int64  \n",
            " 4   funded_amnt_inv             39717 non-null  float64\n",
            " 5   term                        39717 non-null  object \n",
            " 6   int_rate                    39717 non-null  object \n",
            " 7   installment                 39717 non-null  float64\n",
            " 8   grade                       39717 non-null  object \n",
            " 9   sub_grade                   39717 non-null  object \n",
            " 10  emp_title                   37258 non-null  object \n",
            " 11  emp_length                  38642 non-null  object \n",
            " 12  home_ownership              39717 non-null  object \n",
            " 13  annual_inc                  39717 non-null  float64\n",
            " 14  verification_status         39717 non-null  object \n",
            " 15  issue_d                     39717 non-null  object \n",
            " 16  loan_status                 39717 non-null  object \n",
            " 17  pymnt_plan                  39717 non-null  object \n",
            " 18  url                         39717 non-null  object \n",
            " 19  desc                        26777 non-null  object \n",
            " 20  purpose                     39717 non-null  object \n",
            " 21  title                       39706 non-null  object \n",
            " 22  zip_code                    39717 non-null  object \n",
            " 23  addr_state                  39717 non-null  object \n",
            " 24  dti                         39717 non-null  float64\n",
            " 25  delinq_2yrs                 39717 non-null  int64  \n",
            " 26  earliest_cr_line            39717 non-null  object \n",
            " 27  inq_last_6mths              39717 non-null  int64  \n",
            " 28  mths_since_last_delinq      14035 non-null  float64\n",
            " 29  open_acc                    39717 non-null  int64  \n",
            " 30  pub_rec                     39717 non-null  int64  \n",
            " 31  revol_bal                   39717 non-null  int64  \n",
            " 32  revol_util                  39667 non-null  object \n",
            " 33  total_acc                   39717 non-null  int64  \n",
            " 34  initial_list_status         39717 non-null  object \n",
            " 35  out_prncp                   39717 non-null  float64\n",
            " 36  out_prncp_inv               39717 non-null  float64\n",
            " 37  total_pymnt                 39717 non-null  float64\n",
            " 38  total_pymnt_inv             39717 non-null  float64\n",
            " 39  total_rec_prncp             39717 non-null  float64\n",
            " 40  total_rec_int               39717 non-null  float64\n",
            " 41  total_rec_late_fee          39717 non-null  float64\n",
            " 42  recoveries                  39717 non-null  float64\n",
            " 43  collection_recovery_fee     39717 non-null  float64\n",
            " 44  last_pymnt_d                39646 non-null  object \n",
            " 45  last_pymnt_amnt             39717 non-null  float64\n",
            " 46  last_credit_pull_d          39715 non-null  object \n",
            " 47  collections_12_mths_ex_med  39661 non-null  float64\n",
            " 48  policy_code                 39717 non-null  int64  \n",
            " 49  application_type            39717 non-null  object \n",
            " 50  acc_now_delinq              39717 non-null  int64  \n",
            " 51  chargeoff_within_12_mths    39661 non-null  float64\n",
            " 52  delinq_amnt                 39717 non-null  int64  \n",
            " 53  pub_rec_bankruptcies        39020 non-null  float64\n",
            " 54  tax_liens                   39678 non-null  float64\n",
            "dtypes: float64(19), int64(13), object(23)\n",
            "memory usage: 16.7+ MB\n"
          ],
          "name": "stdout"
        }
      ]
    },
    {
      "cell_type": "code",
      "metadata": {
        "colab": {
          "base_uri": "https://localhost:8080/"
        },
        "id": "AqVdUGOkZ0yv",
        "outputId": "466f506a-f58d-40d1-9a37-a60ba314ce14"
      },
      "source": [
        "#checking categorical variables and see for useful info\r\n",
        "unique_columns = loan_df.columns[loan_df.nunique(dropna=False) < 10]\r\n",
        "\r\n",
        "for i in range(0,len(unique_columns)):\r\n",
        "  print(\"Column: \",unique_columns[i],\"having unique values: \",loan_df[unique_columns[i]].unique())\r\n"
      ],
      "execution_count": null,
      "outputs": [
        {
          "output_type": "stream",
          "text": [
            "Column:  term having unique values:  [' 36 months' ' 60 months']\n",
            "Column:  grade having unique values:  ['B' 'C' 'A' 'E' 'F' 'D' 'G']\n",
            "Column:  home_ownership having unique values:  ['RENT' 'OWN' 'MORTGAGE' 'OTHER' 'NONE']\n",
            "Column:  verification_status having unique values:  ['Verified' 'Source Verified' 'Not Verified']\n",
            "Column:  loan_status having unique values:  ['Fully Paid' 'Charged Off' 'Current']\n",
            "Column:  pymnt_plan having unique values:  ['n']\n",
            "Column:  inq_last_6mths having unique values:  [1 5 2 0 3 4 6 7 8]\n",
            "Column:  pub_rec having unique values:  [0 1 2 3 4]\n",
            "Column:  initial_list_status having unique values:  ['f']\n",
            "Column:  collections_12_mths_ex_med having unique values:  [ 0. nan]\n",
            "Column:  policy_code having unique values:  [1]\n",
            "Column:  application_type having unique values:  ['INDIVIDUAL']\n",
            "Column:  acc_now_delinq having unique values:  [0]\n",
            "Column:  chargeoff_within_12_mths having unique values:  [ 0. nan]\n",
            "Column:  delinq_amnt having unique values:  [0]\n",
            "Column:  pub_rec_bankruptcies having unique values:  [ 0.  1.  2. nan]\n",
            "Column:  tax_liens having unique values:  [ 0. nan]\n"
          ],
          "name": "stdout"
        }
      ]
    },
    {
      "cell_type": "markdown",
      "metadata": {
        "id": "4izP64kxpKx1"
      },
      "source": [
        "###Understanding column variables\r\n"
      ]
    },
    {
      "cell_type": "code",
      "metadata": {
        "id": "I7-X9nW1cfOY"
      },
      "source": [
        "#Drop columns having only one categorical value\r\n",
        "drop_cols = [c for c in list(loan_df) if loan_df[c].nunique() <= 1]\r\n",
        "#print(drop_cols)\r\n",
        "loan_df = loan_df.drop(columns=drop_cols)"
      ],
      "execution_count": null,
      "outputs": []
    },
    {
      "cell_type": "code",
      "metadata": {
        "id": "ZPE4NH37gyX-"
      },
      "source": [
        "#Removing \r\n",
        "loan_df = loan_df.drop(columns=['id','member_id','mths_since_last_delinq','desc','emp_title','url','title','zip_code'], inplace=False)"
      ],
      "execution_count": null,
      "outputs": []
    },
    {
      "cell_type": "code",
      "metadata": {
        "id": "Dv82HbJQ1qiG",
        "colab": {
          "base_uri": "https://localhost:8080/"
        },
        "outputId": "3c0bbaba-6075-46d7-da13-468cfeaa318e"
      },
      "source": [
        "loan_df.info()"
      ],
      "execution_count": null,
      "outputs": [
        {
          "output_type": "stream",
          "text": [
            "<class 'pandas.core.frame.DataFrame'>\n",
            "RangeIndex: 39717 entries, 0 to 39716\n",
            "Data columns (total 38 columns):\n",
            " #   Column                   Non-Null Count  Dtype  \n",
            "---  ------                   --------------  -----  \n",
            " 0   loan_amnt                39717 non-null  int64  \n",
            " 1   funded_amnt              39717 non-null  int64  \n",
            " 2   funded_amnt_inv          39717 non-null  float64\n",
            " 3   term                     39717 non-null  object \n",
            " 4   int_rate                 39717 non-null  object \n",
            " 5   installment              39717 non-null  float64\n",
            " 6   grade                    39717 non-null  object \n",
            " 7   sub_grade                39717 non-null  object \n",
            " 8   emp_length               38642 non-null  object \n",
            " 9   home_ownership           39717 non-null  object \n",
            " 10  annual_inc               39717 non-null  float64\n",
            " 11  verification_status      39717 non-null  object \n",
            " 12  issue_d                  39717 non-null  object \n",
            " 13  loan_status              39717 non-null  object \n",
            " 14  purpose                  39717 non-null  object \n",
            " 15  addr_state               39717 non-null  object \n",
            " 16  dti                      39717 non-null  float64\n",
            " 17  delinq_2yrs              39717 non-null  int64  \n",
            " 18  earliest_cr_line         39717 non-null  object \n",
            " 19  inq_last_6mths           39717 non-null  int64  \n",
            " 20  open_acc                 39717 non-null  int64  \n",
            " 21  pub_rec                  39717 non-null  int64  \n",
            " 22  revol_bal                39717 non-null  int64  \n",
            " 23  revol_util               39667 non-null  object \n",
            " 24  total_acc                39717 non-null  int64  \n",
            " 25  out_prncp                39717 non-null  float64\n",
            " 26  out_prncp_inv            39717 non-null  float64\n",
            " 27  total_pymnt              39717 non-null  float64\n",
            " 28  total_pymnt_inv          39717 non-null  float64\n",
            " 29  total_rec_prncp          39717 non-null  float64\n",
            " 30  total_rec_int            39717 non-null  float64\n",
            " 31  total_rec_late_fee       39717 non-null  float64\n",
            " 32  recoveries               39717 non-null  float64\n",
            " 33  collection_recovery_fee  39717 non-null  float64\n",
            " 34  last_pymnt_d             39646 non-null  object \n",
            " 35  last_pymnt_amnt          39717 non-null  float64\n",
            " 36  last_credit_pull_d       39715 non-null  object \n",
            " 37  pub_rec_bankruptcies     39020 non-null  float64\n",
            "dtypes: float64(15), int64(8), object(15)\n",
            "memory usage: 11.5+ MB\n"
          ],
          "name": "stdout"
        }
      ]
    },
    {
      "cell_type": "code",
      "metadata": {
        "id": "9LoZkAJTrl7B"
      },
      "source": [
        "loan_df.drop(loan_df[(loan_df['loan_status'] == 'Current')].index, inplace=True)"
      ],
      "execution_count": null,
      "outputs": []
    },
    {
      "cell_type": "code",
      "metadata": {
        "colab": {
          "base_uri": "https://localhost:8080/"
        },
        "id": "YU5VGneMqbHF",
        "outputId": "f3e04cc0-bae0-4354-a6cf-fbec820a80df"
      },
      "source": [
        "round(loan_df.isnull().sum()/len(loan_df.index)*100,2)"
      ],
      "execution_count": null,
      "outputs": [
        {
          "output_type": "execute_result",
          "data": {
            "text/plain": [
              "loan_amnt                  0.00\n",
              "funded_amnt                0.00\n",
              "funded_amnt_inv            0.00\n",
              "term                       0.00\n",
              "int_rate                   0.00\n",
              "installment                0.00\n",
              "grade                      0.00\n",
              "sub_grade                  0.00\n",
              "emp_length                 2.68\n",
              "home_ownership             0.00\n",
              "annual_inc                 0.00\n",
              "verification_status        0.00\n",
              "issue_d                    0.00\n",
              "loan_status                0.00\n",
              "purpose                    0.00\n",
              "addr_state                 0.00\n",
              "dti                        0.00\n",
              "delinq_2yrs                0.00\n",
              "earliest_cr_line           0.00\n",
              "inq_last_6mths             0.00\n",
              "open_acc                   0.00\n",
              "pub_rec                    0.00\n",
              "revol_bal                  0.00\n",
              "revol_util                 0.13\n",
              "total_acc                  0.00\n",
              "out_prncp                  0.00\n",
              "out_prncp_inv              0.00\n",
              "total_pymnt                0.00\n",
              "total_pymnt_inv            0.00\n",
              "total_rec_prncp            0.00\n",
              "total_rec_int              0.00\n",
              "total_rec_late_fee         0.00\n",
              "recoveries                 0.00\n",
              "collection_recovery_fee    0.00\n",
              "last_pymnt_d               0.18\n",
              "last_pymnt_amnt            0.00\n",
              "last_credit_pull_d         0.01\n",
              "pub_rec_bankruptcies       1.81\n",
              "dtype: float64"
            ]
          },
          "metadata": {
            "tags": []
          },
          "execution_count": 253
        }
      ]
    },
    {
      "cell_type": "code",
      "metadata": {
        "colab": {
          "base_uri": "https://localhost:8080/"
        },
        "id": "Z_GwIkETjP0P",
        "outputId": "8999bd85-a4e1-4d99-9536-5b5890d56dcc"
      },
      "source": [
        "#Applicable only for Current loan_status - remove out_prncp and out_prncp_inv\r\n",
        "#Remove recoveries and collection recovery fee - later part of analysis if needed\r\n",
        "#Drop last_payment_d and last_payment_amount\r\n",
        "loan_df['out_prncp_inv'].value_counts()"
      ],
      "execution_count": null,
      "outputs": [
        {
          "output_type": "execute_result",
          "data": {
            "text/plain": [
              "0.0    38577\n",
              "Name: out_prncp_inv, dtype: int64"
            ]
          },
          "metadata": {
            "tags": []
          },
          "execution_count": 260
        }
      ]
    },
    {
      "cell_type": "code",
      "metadata": {
        "colab": {
          "base_uri": "https://localhost:8080/"
        },
        "id": "hR5qJj_irZ3V",
        "outputId": "f178fb5b-e355-43c6-aea4-d14bf8743446"
      },
      "source": [
        "loan_df['emp_length'].value_counts()"
      ],
      "execution_count": null,
      "outputs": [
        {
          "output_type": "execute_result",
          "data": {
            "text/plain": [
              "10+ years    8488\n",
              "< 1 year     4508\n",
              "2 years      4291\n",
              "3 years      4012\n",
              "4 years      3342\n",
              "5 years      3194\n",
              "1 year       3169\n",
              "6 years      2168\n",
              "7 years      1711\n",
              "8 years      1435\n",
              "9 years      1226\n",
              "Name: emp_length, dtype: int64"
            ]
          },
          "metadata": {
            "tags": []
          },
          "execution_count": 254
        }
      ]
    },
    {
      "cell_type": "code",
      "metadata": {
        "id": "CNxRQf7_sOgv"
      },
      "source": [
        "loan_df['emp_length'].fillna(0,inplace=True)"
      ],
      "execution_count": null,
      "outputs": []
    },
    {
      "cell_type": "code",
      "metadata": {
        "id": "8JkDBd1fbggV"
      },
      "source": [
        "import re\r\n",
        "loan_df.emp_length = loan_df['emp_length'].apply(lambda x: re.split(r'(\\d+)',str(x))[1]).astype('int64')"
      ],
      "execution_count": null,
      "outputs": []
    },
    {
      "cell_type": "code",
      "metadata": {
        "colab": {
          "base_uri": "https://localhost:8080/"
        },
        "id": "FzqMwqp7eBdH",
        "outputId": "e0a65cbe-cd48-4c1a-b0fb-42816dc9077a"
      },
      "source": [
        "loan_df['emp_length'].value_counts()"
      ],
      "execution_count": null,
      "outputs": [
        {
          "output_type": "execute_result",
          "data": {
            "text/plain": [
              "10    8488\n",
              "1     7677\n",
              "2     4291\n",
              "3     4012\n",
              "4     3342\n",
              "5     3194\n",
              "6     2168\n",
              "7     1711\n",
              "8     1435\n",
              "9     1226\n",
              "0     1033\n",
              "Name: emp_length, dtype: int64"
            ]
          },
          "metadata": {
            "tags": []
          },
          "execution_count": 257
        }
      ]
    },
    {
      "cell_type": "code",
      "metadata": {
        "colab": {
          "base_uri": "https://localhost:8080/"
        },
        "id": "2hsVJOWftW7v",
        "outputId": "153c4794-d50b-4cee-9406-c0c80164e5dc"
      },
      "source": [
        "loan_df['pub_rec_bankruptcies'].value_counts()"
      ],
      "execution_count": null,
      "outputs": [
        {
          "output_type": "execute_result",
          "data": {
            "text/plain": [
              "0.0    36238\n",
              "1.0     1637\n",
              "2.0        5\n",
              "Name: pub_rec_bankruptcies, dtype: int64"
            ]
          },
          "metadata": {
            "tags": []
          },
          "execution_count": 258
        }
      ]
    },
    {
      "cell_type": "code",
      "metadata": {
        "id": "oC3FCyWEtfRC",
        "colab": {
          "base_uri": "https://localhost:8080/"
        },
        "outputId": "47b45e7a-fec8-4c03-f426-c94424a69203"
      },
      "source": [
        "loan_df.isnull().sum(axis=0)"
      ],
      "execution_count": null,
      "outputs": [
        {
          "output_type": "execute_result",
          "data": {
            "text/plain": [
              "loan_amnt                    0\n",
              "funded_amnt                  0\n",
              "funded_amnt_inv              0\n",
              "term                         0\n",
              "int_rate                     0\n",
              "installment                  0\n",
              "grade                        0\n",
              "sub_grade                    0\n",
              "emp_length                   0\n",
              "home_ownership               0\n",
              "annual_inc                   0\n",
              "verification_status          0\n",
              "issue_d                      0\n",
              "loan_status                  0\n",
              "purpose                      0\n",
              "addr_state                   0\n",
              "dti                          0\n",
              "delinq_2yrs                  0\n",
              "earliest_cr_line             0\n",
              "inq_last_6mths               0\n",
              "open_acc                     0\n",
              "pub_rec                      0\n",
              "revol_bal                    0\n",
              "revol_util                  50\n",
              "total_acc                    0\n",
              "out_prncp                    0\n",
              "out_prncp_inv                0\n",
              "total_pymnt                  0\n",
              "total_pymnt_inv              0\n",
              "total_rec_prncp              0\n",
              "total_rec_int                0\n",
              "total_rec_late_fee           0\n",
              "recoveries                   0\n",
              "collection_recovery_fee      0\n",
              "last_pymnt_d                71\n",
              "last_pymnt_amnt              0\n",
              "last_credit_pull_d           2\n",
              "pub_rec_bankruptcies       697\n",
              "dtype: int64"
            ]
          },
          "metadata": {
            "tags": []
          },
          "execution_count": 259
        }
      ]
    },
    {
      "cell_type": "code",
      "metadata": {
        "id": "ZfJLfRVBnWfI"
      },
      "source": [
        ""
      ],
      "execution_count": null,
      "outputs": []
    }
  ]
}