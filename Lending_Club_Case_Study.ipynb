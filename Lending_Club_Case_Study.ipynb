{
  "nbformat": 4,
  "nbformat_minor": 0,
  "metadata": {
    "colab": {
      "name": "Lending_Club_Case_Study.ipynb",
      "provenance": [],
      "collapsed_sections": []
    },
    "kernelspec": {
      "name": "python3",
      "display_name": "Python 3"
    }
  },
  "cells": [
    {
      "cell_type": "markdown",
      "metadata": {
        "id": "EyyI8GXXf-tA"
      },
      "source": [
        "#Data Loading and Understanding"
      ]
    },
    {
      "cell_type": "code",
      "metadata": {
        "id": "ZKUeZ2O-SeKX",
        "colab": {
          "base_uri": "https://localhost:8080/"
        },
        "outputId": "87663794-ee4d-4f37-b39c-8ec7d73568e7"
      },
      "source": [
        "import pandas as pd\r\n",
        "\r\n",
        "loan = pd.read_csv(\"loan.csv\", sep=\",\",encoding = \"ISO-8859-1\",low_memory = False)\r\n",
        "#Information about dataset\r\n",
        "loan.info()\r\n"
      ],
      "execution_count": 69,
      "outputs": [
        {
          "output_type": "stream",
          "text": [
            "<class 'pandas.core.frame.DataFrame'>\n",
            "RangeIndex: 39717 entries, 0 to 39716\n",
            "Columns: 111 entries, id to total_il_high_credit_limit\n",
            "dtypes: float64(74), int64(13), object(24)\n",
            "memory usage: 33.6+ MB\n"
          ],
          "name": "stdout"
        }
      ]
    },
    {
      "cell_type": "code",
      "metadata": {
        "colab": {
          "base_uri": "https://localhost:8080/"
        },
        "id": "skqVZGV1f83J",
        "outputId": "56645753-970a-4b32-d0b7-83905af79735"
      },
      "source": [
        "#get number of rows and columns in the dataset\r\n",
        "\r\n",
        "print(\"Shape of the dataset : \", loan.shape,\"\\n\")\r\n",
        "print(\"Columns of the dataset : \")\r\n",
        "loan.columns"
      ],
      "execution_count": 70,
      "outputs": [
        {
          "output_type": "stream",
          "text": [
            "Shape of the dataset :  (39717, 111) \n",
            "\n",
            "Columns of the dataset : \n"
          ],
          "name": "stdout"
        },
        {
          "output_type": "execute_result",
          "data": {
            "text/plain": [
              "Index(['id', 'member_id', 'loan_amnt', 'funded_amnt', 'funded_amnt_inv',\n",
              "       'term', 'int_rate', 'installment', 'grade', 'sub_grade',\n",
              "       ...\n",
              "       'num_tl_90g_dpd_24m', 'num_tl_op_past_12m', 'pct_tl_nvr_dlq',\n",
              "       'percent_bc_gt_75', 'pub_rec_bankruptcies', 'tax_liens',\n",
              "       'tot_hi_cred_lim', 'total_bal_ex_mort', 'total_bc_limit',\n",
              "       'total_il_high_credit_limit'],\n",
              "      dtype='object', length=111)"
            ]
          },
          "metadata": {
            "tags": []
          },
          "execution_count": 70
        }
      ]
    },
    {
      "cell_type": "code",
      "metadata": {
        "colab": {
          "base_uri": "https://localhost:8080/"
        },
        "id": "6v-Hi3XchAtW",
        "outputId": "f2f73af2-5c3a-4d35-e939-509ba988cedb"
      },
      "source": [
        "#get columns with null values\r\n",
        "null_columns = loan.columns[loan.isnull().any()]\r\n",
        "\r\n",
        "print(\"Columns containing NA values : \\n\" , null_columns,\"\\n\\n\")\r\n",
        "\r\n",
        "#get percentage of null values\r\n",
        "null_count = (loan[null_columns].isnull().sum()/len(loan.index))*100\r\n",
        "\r\n",
        "print(\"Percentage of null values in each columns : \\n\",null_count)"
      ],
      "execution_count": 71,
      "outputs": [
        {
          "output_type": "stream",
          "text": [
            "Columns containing NA values : \n",
            " Index(['emp_title', 'emp_length', 'desc', 'title', 'mths_since_last_delinq',\n",
            "       'mths_since_last_record', 'revol_util', 'last_pymnt_d', 'next_pymnt_d',\n",
            "       'last_credit_pull_d', 'collections_12_mths_ex_med',\n",
            "       'mths_since_last_major_derog', 'annual_inc_joint', 'dti_joint',\n",
            "       'verification_status_joint', 'tot_coll_amt', 'tot_cur_bal',\n",
            "       'open_acc_6m', 'open_il_6m', 'open_il_12m', 'open_il_24m',\n",
            "       'mths_since_rcnt_il', 'total_bal_il', 'il_util', 'open_rv_12m',\n",
            "       'open_rv_24m', 'max_bal_bc', 'all_util', 'total_rev_hi_lim', 'inq_fi',\n",
            "       'total_cu_tl', 'inq_last_12m', 'acc_open_past_24mths', 'avg_cur_bal',\n",
            "       'bc_open_to_buy', 'bc_util', 'chargeoff_within_12_mths',\n",
            "       'mo_sin_old_il_acct', 'mo_sin_old_rev_tl_op', 'mo_sin_rcnt_rev_tl_op',\n",
            "       'mo_sin_rcnt_tl', 'mort_acc', 'mths_since_recent_bc',\n",
            "       'mths_since_recent_bc_dlq', 'mths_since_recent_inq',\n",
            "       'mths_since_recent_revol_delinq', 'num_accts_ever_120_pd',\n",
            "       'num_actv_bc_tl', 'num_actv_rev_tl', 'num_bc_sats', 'num_bc_tl',\n",
            "       'num_il_tl', 'num_op_rev_tl', 'num_rev_accts', 'num_rev_tl_bal_gt_0',\n",
            "       'num_sats', 'num_tl_120dpd_2m', 'num_tl_30dpd', 'num_tl_90g_dpd_24m',\n",
            "       'num_tl_op_past_12m', 'pct_tl_nvr_dlq', 'percent_bc_gt_75',\n",
            "       'pub_rec_bankruptcies', 'tax_liens', 'tot_hi_cred_lim',\n",
            "       'total_bal_ex_mort', 'total_bc_limit', 'total_il_high_credit_limit'],\n",
            "      dtype='object') \n",
            "\n",
            "\n",
            "Percentage of null values in each columns : \n",
            " emp_title                       6.191303\n",
            "emp_length                      2.706650\n",
            "desc                           32.580507\n",
            "title                           0.027696\n",
            "mths_since_last_delinq         64.662487\n",
            "                                 ...    \n",
            "tax_liens                       0.098195\n",
            "tot_hi_cred_lim               100.000000\n",
            "total_bal_ex_mort             100.000000\n",
            "total_bc_limit                100.000000\n",
            "total_il_high_credit_limit    100.000000\n",
            "Length: 68, dtype: float64\n"
          ],
          "name": "stdout"
        }
      ]
    },
    {
      "cell_type": "code",
      "metadata": {
        "id": "X5KAsFDSWFJV"
      },
      "source": [
        "#Drop columns with 100% NA values\r\n",
        "loan_df = loan.dropna(how='all',axis=1)"
      ],
      "execution_count": 72,
      "outputs": []
    },
    {
      "cell_type": "code",
      "metadata": {
        "colab": {
          "base_uri": "https://localhost:8080/"
        },
        "id": "LoGCSU2LS1TV",
        "outputId": "1f48d459-4189-4898-baf0-18397a99ef62"
      },
      "source": [
        "print(\"Column details after removing null values\")\r\n",
        "print(\"=============================================\")\r\n",
        "print(\"Shape of the dataset : \",loan_df.shape)\r\n",
        "#get columns with null values\r\n",
        "null_columns = loan_df.columns[loan_df.isnull().any()]\r\n",
        "print(\"Columns containing NA values : \\n\" , null_columns,\"\\n\\n\")\r\n",
        "\r\n",
        "#get percentage of null values\r\n",
        "null_count = (loan_df[null_columns].isnull().sum()/len(loan_df.index))*100\r\n",
        "print(\"Percentage of null values in each columns : \\n\",null_count)"
      ],
      "execution_count": 73,
      "outputs": [
        {
          "output_type": "stream",
          "text": [
            "Column details after removing null values\n",
            "=============================================\n",
            "Shape of the dataset :  (39717, 57)\n",
            "Columns containing NA values : \n",
            " Index(['emp_title', 'emp_length', 'desc', 'title', 'mths_since_last_delinq',\n",
            "       'mths_since_last_record', 'revol_util', 'last_pymnt_d', 'next_pymnt_d',\n",
            "       'last_credit_pull_d', 'collections_12_mths_ex_med',\n",
            "       'chargeoff_within_12_mths', 'pub_rec_bankruptcies', 'tax_liens'],\n",
            "      dtype='object') \n",
            "\n",
            "\n",
            "Percentage of null values in each columns : \n",
            " emp_title                      6.191303\n",
            "emp_length                     2.706650\n",
            "desc                          32.580507\n",
            "title                          0.027696\n",
            "mths_since_last_delinq        64.662487\n",
            "mths_since_last_record        92.985372\n",
            "revol_util                     0.125891\n",
            "last_pymnt_d                   0.178765\n",
            "next_pymnt_d                  97.129693\n",
            "last_credit_pull_d             0.005036\n",
            "collections_12_mths_ex_med     0.140998\n",
            "chargeoff_within_12_mths       0.140998\n",
            "pub_rec_bankruptcies           1.754916\n",
            "tax_liens                      0.098195\n",
            "dtype: float64\n"
          ],
          "name": "stdout"
        }
      ]
    },
    {
      "cell_type": "markdown",
      "metadata": {
        "id": "5LkZdY5vWmFc"
      },
      "source": [
        "###Inference:\r\n",
        "*   We could see there are 39717 rows and 111 columns in the given dataset.\r\n",
        "*   Out of 111 columns, there are lots of columns having only NA values which will be no use for analysis.\r\n",
        "*   We will remove the columns with NA values and those are not contributing to the analysis.\r\n",
        "\r\n",
        "\r\n"
      ]
    },
    {
      "cell_type": "markdown",
      "metadata": {
        "id": "iZnaM0oPZIUy"
      },
      "source": [
        "#Data cleaning"
      ]
    },
    {
      "cell_type": "code",
      "metadata": {
        "colab": {
          "base_uri": "https://localhost:8080/"
        },
        "id": "xkfWfXvnZKjk",
        "outputId": "371bc942-626e-4275-c942-343f297bdaf8"
      },
      "source": [
        "#seeing the dataset after dropping the columns with 100% NA values\r\n",
        "loan_df.info()"
      ],
      "execution_count": 74,
      "outputs": [
        {
          "output_type": "stream",
          "text": [
            "<class 'pandas.core.frame.DataFrame'>\n",
            "RangeIndex: 39717 entries, 0 to 39716\n",
            "Data columns (total 57 columns):\n",
            " #   Column                      Non-Null Count  Dtype  \n",
            "---  ------                      --------------  -----  \n",
            " 0   id                          39717 non-null  int64  \n",
            " 1   member_id                   39717 non-null  int64  \n",
            " 2   loan_amnt                   39717 non-null  int64  \n",
            " 3   funded_amnt                 39717 non-null  int64  \n",
            " 4   funded_amnt_inv             39717 non-null  float64\n",
            " 5   term                        39717 non-null  object \n",
            " 6   int_rate                    39717 non-null  object \n",
            " 7   installment                 39717 non-null  float64\n",
            " 8   grade                       39717 non-null  object \n",
            " 9   sub_grade                   39717 non-null  object \n",
            " 10  emp_title                   37258 non-null  object \n",
            " 11  emp_length                  38642 non-null  object \n",
            " 12  home_ownership              39717 non-null  object \n",
            " 13  annual_inc                  39717 non-null  float64\n",
            " 14  verification_status         39717 non-null  object \n",
            " 15  issue_d                     39717 non-null  object \n",
            " 16  loan_status                 39717 non-null  object \n",
            " 17  pymnt_plan                  39717 non-null  object \n",
            " 18  url                         39717 non-null  object \n",
            " 19  desc                        26777 non-null  object \n",
            " 20  purpose                     39717 non-null  object \n",
            " 21  title                       39706 non-null  object \n",
            " 22  zip_code                    39717 non-null  object \n",
            " 23  addr_state                  39717 non-null  object \n",
            " 24  dti                         39717 non-null  float64\n",
            " 25  delinq_2yrs                 39717 non-null  int64  \n",
            " 26  earliest_cr_line            39717 non-null  object \n",
            " 27  inq_last_6mths              39717 non-null  int64  \n",
            " 28  mths_since_last_delinq      14035 non-null  float64\n",
            " 29  mths_since_last_record      2786 non-null   float64\n",
            " 30  open_acc                    39717 non-null  int64  \n",
            " 31  pub_rec                     39717 non-null  int64  \n",
            " 32  revol_bal                   39717 non-null  int64  \n",
            " 33  revol_util                  39667 non-null  object \n",
            " 34  total_acc                   39717 non-null  int64  \n",
            " 35  initial_list_status         39717 non-null  object \n",
            " 36  out_prncp                   39717 non-null  float64\n",
            " 37  out_prncp_inv               39717 non-null  float64\n",
            " 38  total_pymnt                 39717 non-null  float64\n",
            " 39  total_pymnt_inv             39717 non-null  float64\n",
            " 40  total_rec_prncp             39717 non-null  float64\n",
            " 41  total_rec_int               39717 non-null  float64\n",
            " 42  total_rec_late_fee          39717 non-null  float64\n",
            " 43  recoveries                  39717 non-null  float64\n",
            " 44  collection_recovery_fee     39717 non-null  float64\n",
            " 45  last_pymnt_d                39646 non-null  object \n",
            " 46  last_pymnt_amnt             39717 non-null  float64\n",
            " 47  next_pymnt_d                1140 non-null   object \n",
            " 48  last_credit_pull_d          39715 non-null  object \n",
            " 49  collections_12_mths_ex_med  39661 non-null  float64\n",
            " 50  policy_code                 39717 non-null  int64  \n",
            " 51  application_type            39717 non-null  object \n",
            " 52  acc_now_delinq              39717 non-null  int64  \n",
            " 53  chargeoff_within_12_mths    39661 non-null  float64\n",
            " 54  delinq_amnt                 39717 non-null  int64  \n",
            " 55  pub_rec_bankruptcies        39020 non-null  float64\n",
            " 56  tax_liens                   39678 non-null  float64\n",
            "dtypes: float64(20), int64(13), object(24)\n",
            "memory usage: 17.3+ MB\n"
          ],
          "name": "stdout"
        }
      ]
    },
    {
      "cell_type": "code",
      "metadata": {
        "colab": {
          "base_uri": "https://localhost:8080/"
        },
        "id": "AqVdUGOkZ0yv",
        "outputId": "cfb065ce-9616-4086-ec80-d9e6b5eb64e6"
      },
      "source": [
        "#checking categorical variables and see for useful info\r\n",
        "unique_columns = loan_df.columns[loan_df.nunique(dropna=False) < 10]\r\n",
        "\r\n",
        "for i in range(0,len(unique_columns)):\r\n",
        "  print(\"Column: \",unique_columns[i],\"having unique values: \",loan_df[unique_columns[i]].unique())\r\n"
      ],
      "execution_count": 78,
      "outputs": [
        {
          "output_type": "stream",
          "text": [
            "Column:  term having unique values:  [' 36 months' ' 60 months']\n",
            "Column:  grade having unique values:  ['B' 'C' 'A' 'E' 'F' 'D' 'G']\n",
            "Column:  home_ownership having unique values:  ['RENT' 'OWN' 'MORTGAGE' 'OTHER' 'NONE']\n",
            "Column:  verification_status having unique values:  ['Verified' 'Source Verified' 'Not Verified']\n",
            "Column:  loan_status having unique values:  ['Fully Paid' 'Charged Off' 'Current']\n",
            "Column:  pymnt_plan having unique values:  ['n']\n",
            "Column:  inq_last_6mths having unique values:  [1 5 2 0 3 4 6 7 8]\n",
            "Column:  pub_rec having unique values:  [0 1 2 3 4]\n",
            "Column:  initial_list_status having unique values:  ['f']\n",
            "Column:  next_pymnt_d having unique values:  [nan 'Jun-16' 'Jul-16']\n",
            "Column:  collections_12_mths_ex_med having unique values:  [ 0. nan]\n",
            "Column:  policy_code having unique values:  [1]\n",
            "Column:  application_type having unique values:  ['INDIVIDUAL']\n",
            "Column:  acc_now_delinq having unique values:  [0]\n",
            "Column:  chargeoff_within_12_mths having unique values:  [ 0. nan]\n",
            "Column:  delinq_amnt having unique values:  [0]\n",
            "Column:  pub_rec_bankruptcies having unique values:  [ 0.  1.  2. nan]\n",
            "Column:  tax_liens having unique values:  [ 0. nan]\n"
          ],
          "name": "stdout"
        }
      ]
    },
    {
      "cell_type": "code",
      "metadata": {
        "colab": {
          "base_uri": "https://localhost:8080/"
        },
        "id": "I7-X9nW1cfOY",
        "outputId": "ba438f96-6dcf-466c-ea5d-c6882e70eb88"
      },
      "source": [
        "#Drop columns having only one value\r\n",
        "drop_cols = [c for c\r\n",
        "             in list(loan_df)\r\n",
        "             if loan_df[c].nunique() <= 1]\r\n",
        "print(drop_cols)\r\n",
        "#loan_df.drop(columns=drop_cols,inpace=True)"
      ],
      "execution_count": 79,
      "outputs": [
        {
          "output_type": "stream",
          "text": [
            "['pymnt_plan', 'initial_list_status', 'collections_12_mths_ex_med', 'policy_code', 'application_type', 'acc_now_delinq', 'chargeoff_within_12_mths', 'delinq_amnt', 'tax_liens']\n"
          ],
          "name": "stdout"
        }
      ]
    },
    {
      "cell_type": "code",
      "metadata": {
        "id": "ZPE4NH37gyX-"
      },
      "source": [
        ""
      ],
      "execution_count": null,
      "outputs": []
    }
  ]
}